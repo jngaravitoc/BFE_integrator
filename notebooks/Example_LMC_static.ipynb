{
 "cells": [
  {
   "cell_type": "code",
   "execution_count": 1,
   "metadata": {
    "collapsed": false
   },
   "outputs": [
    {
     "name": "stderr",
     "output_type": "stream",
     "text": [
      "/usr/local/lib/python3.4/dist-packages/matplotlib/__init__.py:841: UserWarning: Found matplotlib configuration in ~/.matplotlib/. To conform with the XDG base directory standard, this configuration location has been deprecated on Linux, and the new location is now /home/ngaravito/.config/matplotlib/. Please move your configuration there to ensure that matplotlib will continue to find it in the future.\n",
      "  _get_xdg_config_dir())\n"
     ]
    },
    {
     "name": "stdout",
     "output_type": "stream",
     "text": [
      "Populating the interactive namespace from numpy and matplotlib\n"
     ]
    }
   ],
   "source": [
    "%pylab inline\n",
    "from pygadgetreader import readsnap, readheader\n",
    "import sys\n",
    "import octopus\n",
    "sys.path.insert(0, '../src/')\n",
    "from scipy import interpolate"
   ]
  },
  {
   "cell_type": "code",
   "execution_count": 10,
   "metadata": {
    "collapsed": true
   },
   "outputs": [],
   "source": [
    "path = '/media/ngaravito/4fb4fd3d-1665-4892-a18d-bdbb1185a07b/simulations/LMCMW40M/MWLMC6/'\n",
    "def N_body_orbit(snap_n, p_id):\n",
    "    pos = readsnap(path +'MWLMC6_40M_b0_{:03d}'.format(snap_n), 'pos', 'dm')\n",
    "    vel = readsnap(path +'MWLMC6_40M_b0_{:03d}'.format(snap_n), 'vel', 'dm')\n",
    "    mass = readsnap(path +'MWLMC6_40M_b0_{:03d}'.format(snap_n), 'mass', 'dm')\n",
    "    pid = readsnap(path +'MWLMC6_40M_b0_{:03d}'.format(snap_n), 'pid', 'dm')\n",
    "    time = readheader(path +'MWLMC6_40M_b0_{:03d}'.format(snap_n), 'time')\n",
    "    index_id = np.where(pid == p_id)[0]\n",
    "    return pos[index_id], vel[index_id], time\n",
    "\n",
    "def particle_orbit(t, pid, snap_init):\n",
    "    N_snaps = 200\n",
    "    particle_pos = np.zeros((N_snaps,3))\n",
    "    particle_vel = np.zeros((N_snaps,3))\n",
    "\n",
    "    time=0\n",
    "    t_orb = np.zeros(N_snaps)\n",
    "    i=0 + snap_init\n",
    "    while time<t:\n",
    "        particle_pos[i-snap_init], particle_vel[i-snap_init],\\\n",
    "        t_orb[i-snap_init] = N_body_orbit(i, pid)\n",
    "        time = t_orb[i-snap_init] - t_orb[0]\n",
    "        i+=1\n",
    "    #_pos = LMCMW_pos[index]\n",
    "    #_vel = LMCMW_vel[index]\n",
    "    return particle_pos[:i+1-snap_init], particle_vel[:i+1-snap_init], t_orb[:i+1-snap_init]\n",
    "\n",
    "def particle_pos_vel(x, y, z, vx, vy, vz):\n",
    "    \"\"\"\n",
    "    Finds the particle id of a a particle with the closest \n",
    "    given phase space coordinates.\n",
    "    \n",
    "    \"\"\"\n",
    "    pos = readsnap(path +'MWLMC6_40M_b0_115', 'pos', 'dm')\n",
    "    vel = readsnap(path +'MWLMC6_40M_b0_115', 'vel', 'dm')\n",
    "    pid = readsnap(path +'MWLMC6_40M_b0_115', 'pid', 'dm')\n",
    "    #R = np.sqrt(LMCMW_pos[:,0]**2.0 + LMCMW_pos[:,1]**2.0 + LMCMW_pos[:,2]**2.0)\n",
    "    #V = np.sqrt(LMCMW_vel[:,0]**2.0 + LMCMW_vel[:,1]**2.0 + LMCMW_vel[:,2]**2.0)\n",
    "    x_dif = pos[:,0] - x\n",
    "    y_dif = pos[:,1] - y\n",
    "    z_dif = pos[:,2] - z\n",
    "    \n",
    "\n",
    "    space = np.sqrt(x_dif**2 + y_dif**2 + z_dif**2)\n",
    "    index_pos = np.where(space<2)\n",
    "    \n",
    "    pid_space = pid[index_pos]\n",
    "    pos_space = pos[index_pos]\n",
    "    vel_space = vel[index_pos]\n",
    "    \n",
    "    vx_dif = vel_space[:,0] - vx\n",
    "    vy_dif = vel_space[:,1] - vy\n",
    "    vz_dif = vel_space[:,2] - vz\n",
    "    \n",
    "    velocity = np.sqrt(vx_dif**2 + vy_dif**2 + vz_dif**2)\n",
    "    index_vel = np.argmin(velocity)\n",
    "\n",
    "    \n",
    "    return pid_space[index_vel], pos_space[index_vel, 0], pos_space[index_vel, 1], \\\n",
    "           pos_space[index_vel, 2], vel_space[index_vel, 0], vel_space[index_vel, 1], \\\n",
    "           vel_space[index_vel, 2]"
   ]
  },
  {
   "cell_type": "code",
   "execution_count": 11,
   "metadata": {
    "collapsed": false
   },
   "outputs": [
    {
     "name": "stdout",
     "output_type": "stream",
     "text": [
      "Returning DM    Positions\n",
      "Returning DM    Velocities\n",
      "Returning DM    Particle IDs\n"
     ]
    }
   ],
   "source": [
    "p_ids, x_init, y_init, z_init, vx_init, vy_init, vz_init = particle_pos_vel(200, 0, 0, 0, 200, 0)"
   ]
  },
  {
   "cell_type": "code",
   "execution_count": 12,
   "metadata": {
    "collapsed": false
   },
   "outputs": [
    {
     "name": "stdout",
     "output_type": "stream",
     "text": [
      "18971587 200.245 0.688381 1.39297 -161.237 -81.0606 30.8352\n"
     ]
    }
   ],
   "source": [
    "print(p_ids, x_init, y_init, z_init, vx_init, vy_init, vz_init)"
   ]
  },
  {
   "cell_type": "code",
   "execution_count": 13,
   "metadata": {
    "collapsed": false
   },
   "outputs": [
    {
     "name": "stdout",
     "output_type": "stream",
     "text": [
      "Returning DM    Positions\n",
      "Returning DM    Velocities\n",
      "Returning DM    Mass\n",
      "Returning DM    Particle IDs\n",
      "Returning DM    Positions\n",
      "Returning DM    Velocities\n",
      "Returning DM    Mass\n",
      "Returning DM    Particle IDs\n",
      "Returning DM    Positions\n",
      "Returning DM    Velocities\n",
      "Returning DM    Mass\n",
      "Returning DM    Particle IDs\n",
      "Returning DM    Positions\n",
      "Returning DM    Velocities\n",
      "Returning DM    Mass\n",
      "Returning DM    Particle IDs\n",
      "Returning DM    Positions\n",
      "Returning DM    Velocities\n",
      "Returning DM    Mass\n",
      "Returning DM    Particle IDs\n",
      "Returning DM    Positions\n",
      "Returning DM    Velocities\n",
      "Returning DM    Mass\n",
      "Returning DM    Particle IDs\n",
      "Returning DM    Positions\n",
      "Returning DM    Velocities\n",
      "Returning DM    Mass\n",
      "Returning DM    Particle IDs\n",
      "Returning DM    Positions\n",
      "Returning DM    Velocities\n",
      "Returning DM    Mass\n",
      "Returning DM    Particle IDs\n",
      "Returning DM    Positions\n",
      "Returning DM    Velocities\n",
      "Returning DM    Mass\n",
      "Returning DM    Particle IDs\n",
      "Returning DM    Positions\n",
      "Returning DM    Velocities\n",
      "Returning DM    Mass\n",
      "Returning DM    Particle IDs\n",
      "Returning DM    Positions\n",
      "Returning DM    Velocities\n",
      "Returning DM    Mass\n",
      "Returning DM    Particle IDs\n",
      "Returning DM    Positions\n",
      "Returning DM    Velocities\n",
      "Returning DM    Mass\n",
      "Returning DM    Particle IDs\n",
      "Returning DM    Positions\n",
      "Returning DM    Velocities\n",
      "Returning DM    Mass\n",
      "Returning DM    Particle IDs\n",
      "Returning DM    Positions\n",
      "Returning DM    Velocities\n",
      "Returning DM    Mass\n",
      "Returning DM    Particle IDs\n",
      "Returning DM    Positions\n",
      "Returning DM    Velocities\n",
      "Returning DM    Mass\n",
      "Returning DM    Particle IDs\n",
      "Returning DM    Positions\n",
      "Returning DM    Velocities\n",
      "Returning DM    Mass\n",
      "Returning DM    Particle IDs\n",
      "Returning DM    Positions\n",
      "Returning DM    Velocities\n",
      "Returning DM    Mass\n",
      "Returning DM    Particle IDs\n",
      "Returning DM    Positions\n",
      "Returning DM    Velocities\n",
      "Returning DM    Mass\n",
      "Returning DM    Particle IDs\n",
      "Returning DM    Positions\n",
      "Returning DM    Velocities\n",
      "Returning DM    Mass\n",
      "Returning DM    Particle IDs\n",
      "Returning DM    Positions\n",
      "Returning DM    Velocities\n",
      "Returning DM    Mass\n",
      "Returning DM    Particle IDs\n",
      "Returning DM    Positions\n",
      "Returning DM    Velocities\n",
      "Returning DM    Mass\n",
      "Returning DM    Particle IDs\n",
      "Returning DM    Positions\n",
      "Returning DM    Velocities\n",
      "Returning DM    Mass\n",
      "Returning DM    Particle IDs\n",
      "Returning DM    Positions\n",
      "Returning DM    Velocities\n",
      "Returning DM    Mass\n",
      "Returning DM    Particle IDs\n",
      "Returning DM    Positions\n",
      "Returning DM    Velocities\n",
      "Returning DM    Mass\n",
      "Returning DM    Particle IDs\n",
      "Returning DM    Positions\n",
      "Returning DM    Velocities\n",
      "Returning DM    Mass\n",
      "Returning DM    Particle IDs\n",
      "Returning DM    Positions\n",
      "Returning DM    Velocities\n",
      "Returning DM    Mass\n",
      "Returning DM    Particle IDs\n",
      "Returning DM    Positions\n",
      "Returning DM    Velocities\n",
      "Returning DM    Mass\n",
      "Returning DM    Particle IDs\n"
     ]
    }
   ],
   "source": [
    "particle_nbody_orbit, particle_nbody_vel, t_orbit = particle_orbit(0.5, p_ids, 115)"
   ]
  },
  {
   "cell_type": "code",
   "execution_count": 14,
   "metadata": {
    "collapsed": false
   },
   "outputs": [
    {
     "data": {
      "text/plain": [
       "28"
      ]
     },
     "execution_count": 14,
     "metadata": {},
     "output_type": "execute_result"
    }
   ],
   "source": [
    "len(particle_nbody_orbit)"
   ]
  },
  {
   "cell_type": "code",
   "execution_count": 15,
   "metadata": {
    "collapsed": false
   },
   "outputs": [
    {
     "name": "stdout",
     "output_type": "stream",
     "text": [
      "Returning DM    Positions\n",
      "Returning DM    Velocities\n",
      "Returning DM    Particle IDs\n",
      "Returning DISK  Positions\n",
      "Returning DISK  Velocities\n",
      "Returning DISK  Potential\n",
      "Returning DM    Positions\n",
      "Returning DM    Velocities\n",
      "Returning DM    Particle IDs\n",
      "Returning DISK  Positions\n",
      "Returning DISK  Velocities\n",
      "Returning DISK  Potential\n",
      "Returning DM    Positions\n",
      "Returning DM    Velocities\n",
      "Returning DM    Particle IDs\n",
      "Returning DISK  Positions\n",
      "Returning DISK  Velocities\n",
      "Returning DISK  Potential\n",
      "Returning DM    Positions\n",
      "Returning DM    Velocities\n",
      "Returning DM    Particle IDs\n",
      "Returning DISK  Positions\n",
      "Returning DISK  Velocities\n",
      "Returning DISK  Potential\n",
      "Returning DM    Positions\n",
      "Returning DM    Velocities\n",
      "Returning DM    Particle IDs\n",
      "Returning DISK  Positions\n",
      "Returning DISK  Velocities\n",
      "Returning DISK  Potential\n",
      "Returning DM    Positions\n",
      "Returning DM    Velocities\n",
      "Returning DM    Particle IDs\n",
      "Returning DISK  Positions\n",
      "Returning DISK  Velocities\n",
      "Returning DISK  Potential\n",
      "Returning DM    Positions\n",
      "Returning DM    Velocities\n",
      "Returning DM    Particle IDs\n",
      "Returning DISK  Positions\n",
      "Returning DISK  Velocities\n",
      "Returning DISK  Potential\n",
      "Returning DM    Positions\n",
      "Returning DM    Velocities\n",
      "Returning DM    Particle IDs\n",
      "Returning DISK  Positions\n",
      "Returning DISK  Velocities\n",
      "Returning DISK  Potential\n",
      "Returning DM    Positions\n",
      "Returning DM    Velocities\n",
      "Returning DM    Particle IDs\n",
      "Returning DISK  Positions\n",
      "Returning DISK  Velocities\n",
      "Returning DISK  Potential\n",
      "Returning DM    Positions\n",
      "Returning DM    Velocities\n",
      "Returning DM    Particle IDs\n",
      "Returning DISK  Positions\n",
      "Returning DISK  Velocities\n",
      "Returning DISK  Potential\n",
      "Returning DM    Positions\n",
      "Returning DM    Velocities\n",
      "Returning DM    Particle IDs\n",
      "Returning DISK  Positions\n",
      "Returning DISK  Velocities\n",
      "Returning DISK  Potential\n",
      "Returning DM    Positions\n",
      "Returning DM    Velocities\n",
      "Returning DM    Particle IDs\n",
      "Returning DISK  Positions\n",
      "Returning DISK  Velocities\n",
      "Returning DISK  Potential\n",
      "Returning DM    Positions\n",
      "Returning DM    Velocities\n",
      "Returning DM    Particle IDs\n",
      "Returning DISK  Positions\n",
      "Returning DISK  Velocities\n",
      "Returning DISK  Potential\n",
      "Returning DM    Positions\n",
      "Returning DM    Velocities\n",
      "Returning DM    Particle IDs\n",
      "Returning DISK  Positions\n",
      "Returning DISK  Velocities\n",
      "Returning DISK  Potential\n",
      "Returning DM    Positions\n",
      "Returning DM    Velocities\n",
      "Returning DM    Particle IDs\n",
      "Returning DISK  Positions\n",
      "Returning DISK  Velocities\n",
      "Returning DISK  Potential\n",
      "Returning DM    Positions\n",
      "Returning DM    Velocities\n",
      "Returning DM    Particle IDs\n",
      "Returning DISK  Positions\n",
      "Returning DISK  Velocities\n",
      "Returning DISK  Potential\n",
      "Returning DM    Positions\n",
      "Returning DM    Velocities\n",
      "Returning DM    Particle IDs\n",
      "Returning DISK  Positions\n",
      "Returning DISK  Velocities\n",
      "Returning DISK  Potential\n",
      "Returning DM    Positions\n",
      "Returning DM    Velocities\n",
      "Returning DM    Particle IDs\n",
      "Returning DISK  Positions\n",
      "Returning DISK  Velocities\n",
      "Returning DISK  Potential\n",
      "Returning DM    Positions\n",
      "Returning DM    Velocities\n",
      "Returning DM    Particle IDs\n",
      "Returning DISK  Positions\n",
      "Returning DISK  Velocities\n",
      "Returning DISK  Potential\n",
      "Returning DM    Positions\n",
      "Returning DM    Velocities\n",
      "Returning DM    Particle IDs\n",
      "Returning DISK  Positions\n",
      "Returning DISK  Velocities\n",
      "Returning DISK  Potential\n",
      "Returning DM    Positions\n",
      "Returning DM    Velocities\n",
      "Returning DM    Particle IDs\n",
      "Returning DISK  Positions\n",
      "Returning DISK  Velocities\n",
      "Returning DISK  Potential\n",
      "Returning DM    Positions\n",
      "Returning DM    Velocities\n",
      "Returning DM    Particle IDs\n",
      "Returning DISK  Positions\n",
      "Returning DISK  Velocities\n",
      "Returning DISK  Potential\n",
      "Returning DM    Positions\n",
      "Returning DM    Velocities\n",
      "Returning DM    Particle IDs\n",
      "Returning DISK  Positions\n",
      "Returning DISK  Velocities\n",
      "Returning DISK  Potential\n",
      "Returning DM    Positions\n",
      "Returning DM    Velocities\n",
      "Returning DM    Particle IDs\n",
      "Returning DISK  Positions\n",
      "Returning DISK  Velocities\n",
      "Returning DISK  Potential\n",
      "Returning DM    Positions\n",
      "Returning DM    Velocities\n",
      "Returning DM    Particle IDs\n",
      "Returning DISK  Positions\n",
      "Returning DISK  Velocities\n",
      "Returning DISK  Potential\n",
      "Returning DM    Positions\n",
      "Returning DM    Velocities\n",
      "Returning DM    Particle IDs\n",
      "Returning DISK  Positions\n",
      "Returning DISK  Velocities\n",
      "Returning DISK  Potential\n",
      "Returning DM    Positions\n",
      "Returning DM    Velocities\n",
      "Returning DM    Particle IDs\n",
      "Returning DISK  Positions\n",
      "Returning DISK  Velocities\n",
      "Returning DISK  Potential\n",
      "Returning DM    Positions\n",
      "Returning DM    Velocities\n",
      "Returning DM    Particle IDs\n",
      "Returning DISK  Positions\n",
      "Returning DISK  Velocities\n",
      "Returning DISK  Potential\n",
      "Returning DM    Positions\n",
      "Returning DM    Velocities\n",
      "Returning DM    Particle IDs\n",
      "Returning DISK  Positions\n",
      "Returning DISK  Velocities\n",
      "Returning DISK  Potential\n"
     ]
    }
   ],
   "source": [
    "Nhalo = 37500000\n",
    "pos_cm_LMC, vel_cm_LMC, a, b = octopus.orbit(path, 'MWLMC6_40M_b0', 115, 143, Nhalo, 0.025, lmc=False, disk=True)"
   ]
  },
  {
   "cell_type": "code",
   "execution_count": 16,
   "metadata": {
    "collapsed": false
   },
   "outputs": [
    {
     "data": {
      "text/plain": [
       "29"
      ]
     },
     "execution_count": 16,
     "metadata": {},
     "output_type": "execute_result"
    }
   ],
   "source": [
    "len(pos_cm_LMC)"
   ]
  },
  {
   "cell_type": "code",
   "execution_count": 17,
   "metadata": {
    "collapsed": false
   },
   "outputs": [
    {
     "name": "stdout",
     "output_type": "stream",
     "text": [
      "198.739321952\n",
      "-47.8209347752\n",
      "7.24835907086\n"
     ]
    }
   ],
   "source": [
    "print(particle_nbody_orbit[0, 0]-pos_cm_LMC[0, 0])\n",
    "print(particle_nbody_orbit[0, 1]-pos_cm_LMC[0, 1])\n",
    "print(particle_nbody_orbit[0, 2]-pos_cm_LMC[0, 2])"
   ]
  },
  {
   "cell_type": "code",
   "execution_count": 18,
   "metadata": {
    "collapsed": false
   },
   "outputs": [
    {
     "name": "stdout",
     "output_type": "stream",
     "text": [
      "-172.159717794\n",
      "-113.663260181\n",
      "82.7473262221\n"
     ]
    }
   ],
   "source": [
    "print(particle_nbody_vel[0, 0]-vel_cm_LMC[0, 0])\n",
    "print(particle_nbody_vel[0, 1]-vel_cm_LMC[0, 1])\n",
    "print(particle_nbody_vel[0, 2]-vel_cm_LMC[0, 2])"
   ]
  },
  {
   "cell_type": "code",
   "execution_count": 19,
   "metadata": {
    "collapsed": false
   },
   "outputs": [],
   "source": [
    "## trying to interpotale to move the SCF orbit with the COM from the n-body simulation. but doesn't work\n",
    "fx = interpolate.interp1d(np.linspace(0, 0.5, len(pos_cm_LMC)), pos_cm_LMC[:, 0]-pos_cm_LMC[0,0])\n",
    "fy = interpolate.interp1d(np.linspace(0, 0.5, len(pos_cm_LMC)), pos_cm_LMC[:, 1]-pos_cm_LMC[0,1])"
   ]
  },
  {
   "cell_type": "code",
   "execution_count": 23,
   "metadata": {
    "collapsed": false
   },
   "outputs": [],
   "source": [
    "x_cm = fx(np.linspace(0, 0.5, len(SCF_orbit[:,1])))\n",
    "y_cm = fy(np.linspace(0, 0.5, len(SCF_orbit[:,1])))"
   ]
  },
  {
   "cell_type": "code",
   "execution_count": 22,
   "metadata": {
    "collapsed": false
   },
   "outputs": [],
   "source": [
    "SCF_orbit = np.loadtxt('../src/test_time_orbit_LMC6')"
   ]
  },
  {
   "cell_type": "code",
   "execution_count": 24,
   "metadata": {
    "collapsed": false
   },
   "outputs": [
    {
     "data": {
      "text/plain": [
       "[<matplotlib.lines.Line2D at 0x7f4732495940>]"
      ]
     },
     "execution_count": 24,
     "metadata": {},
     "output_type": "execute_result"
    },
    {
     "data": {
      "image/png": "[encoded data removed]",
      "text/plain": [
       "<matplotlib.figure.Figure at 0x7f46eb66ba58>"
      ]
     },
     "metadata": {},
     "output_type": "display_data"
    }
   ],
   "source": [
    "figure(figsize=(10,10))\n",
    "plot(particle_nbody_orbit[:-1,0]-pos_cm_LMC[:-2,0], \n",
    "     particle_nbody_orbit[:-1,1]-pos_cm_LMC[:-2,1]\n",
    "     , label='N-body', marker='o')\n",
    "plot(SCF_orbit[:,1], SCF_orbit[:,2])"
   ]
  },
  {
   "cell_type": "markdown",
   "metadata": {},
   "source": [
    "## The difference might be:\n",
    "\n",
    "1. The potential in the SCF computation is satitc."
   ]
  },
  {
   "cell_type": "code",
   "execution_count": null,
   "metadata": {
    "collapsed": true
   },
   "outputs": [],
   "source": []
  },
  {
   "cell_type": "code",
   "execution_count": null,
   "metadata": {
    "collapsed": true
   },
   "outputs": [],
   "source": []
  }
 ],
 "metadata": {
  "kernelspec": {
   "display_name": "Python 3",
   "language": "python",
   "name": "python3"
  },
  "language_info": {
   "codemirror_mode": {
    "name": "ipython",
    "version": 3
   },
   "file_extension": ".py",
   "mimetype": "text/x-python",
   "name": "python",
   "nbconvert_exporter": "python",
   "pygments_lexer": "ipython3",
   "version": "3.4.3"
  }
 },
 "nbformat": 4,
 "nbformat_minor": 0
}
