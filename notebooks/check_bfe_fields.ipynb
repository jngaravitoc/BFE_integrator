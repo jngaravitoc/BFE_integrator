{
 "cells": [
  {
   "cell_type": "code",
   "execution_count": 86,
   "metadata": {},
   "outputs": [],
   "source": [
    "import numpy as np\n",
    "import matplotlib.pyplot as plt\n",
    "import gala\n",
    "import gala.potential as gp\n",
    "import gala.dynamics as gd\n",
    "\n",
    "import sys\n",
    "sys.path.append(\"../../bfe_integrator/src/bfe_tools/\")\n",
    "from read_coefficients import load_scf_coefficients\n",
    "import astropy.units as u"
   ]
  },
  {
   "cell_type": "code",
   "execution_count": 2,
   "metadata": {},
   "outputs": [
    {
     "name": "stdout",
     "output_type": "stream",
     "text": [
      "#  nmax: 20 \n",
      "#  lmax: 20 \n",
      "#  r_s: 25.20 \n",
      "#  particle_mass:  2.334e-04 \n",
      "#  rcom: [-0.07653799 -0.24870398 -0.00731361] \n",
      "#  vcom: [ 0.00804412 -0.00986541 -0.00110419]\n",
      "2.001138716900506509e+01 7.552972632716473643e-03 0.000000000000000000e+00 0.000000000000000000e+00 0.000000000000000000e+00\n",
      "-5.716918922962124783e-03 4.717819020691674768e-03 0.000000000000000000e+00 0.000000000000000000e+00 0.000000000000000000e+00\n",
      "-1.135364624576867959e-01 9.472781381869356879e-03 -4.895604836905454449e-01 9.341445968245961143e-03 4.083864387479116891e-05\n",
      "5.395071590270911904e-02 1.475613080482431061e-02 0.000000000000000000e+00 0.000000000000000000e+00 0.000000000000000000e+00\n"
     ]
    }
   ],
   "source": [
    "!head  \"../../../projects/bfe_computation/examples/runing_pipeline/BFE_LMC5_grav_MO3_simple_COM_host_snap_000.txt\""
   ]
  },
  {
   "cell_type": "code",
   "execution_count": 44,
   "metadata": {},
   "outputs": [
    {
     "name": "stdout",
     "output_type": "stream",
     "text": [
      "(4851, 5)\n",
      "[1.99501324e+01 7.51396132e-03 0.00000000e+00 0.00000000e+00\n",
      " 0.00000000e+00]\n"
     ]
    }
   ],
   "source": [
    "# Read the expansion\n",
    "path_to_coeff = \"../../../projects/bfe_computation/examples/runing_pipeline/\"\n",
    "coeff_file = \"BFE_LMC5_grav_MO3_simple_COM_host_snap_\"\n",
    "\n",
    "coeff = np.loadtxt(path_to_coeff + coeff_file + \"030.txt\")\n",
    "\n",
    "print(np.shape(coeff))\n",
    "pm = 2.334E-4 \n",
    "nmax = 20\n",
    "lmax = 20\n",
    "mmax=20\n",
    "r_s = 25.2\n",
    "\n",
    "# re_shape_matrix \n",
    "print(coeff[0])"
   ]
  },
  {
   "cell_type": "code",
   "execution_count": 131,
   "metadata": {},
   "outputs": [
    {
     "name": "stderr",
     "output_type": "stream",
     "text": [
      "../../bfe_integrator/src/bfe_tools/coefficients_smoothing.py:142: RuntimeWarning: invalid value encountered in double_scalars\n",
      "  bt = 1 / (1 + (varT/T**2))\n"
     ]
    }
   ],
   "source": [
    "Ssmooth, Tsmooth = load_scf_coefficients(path_to_coeff + coeff_file + \"030.txt\", nmax, lmax, mmax, pm, sn=0)"
   ]
  },
  {
   "cell_type": "code",
   "execution_count": 132,
   "metadata": {},
   "outputs": [
    {
     "name": "stdout",
     "output_type": "stream",
     "text": [
      "N coeffcients S:  4851  N coeffcients T:  4410\n"
     ]
    }
   ],
   "source": [
    "print(\"N coeffcients S: \", len(np.nonzero(Ssmooth)[0]), \" N coeffcients T: \", len(np.nonzero(Tsmooth)[0]))"
   ]
  },
  {
   "cell_type": "code",
   "execution_count": 133,
   "metadata": {},
   "outputs": [
    {
     "data": {
      "text/plain": [
       "<matplotlib.image.AxesImage at 0x7fa4530011d0>"
      ]
     },
     "execution_count": 133,
     "metadata": {},
     "output_type": "execute_result"
    },
    {
     "data": {
      "image/png": "[encoded data removed]",
      "text/plain": [
       "<Figure size 432x288 with 1 Axes>"
      ]
     },
     "metadata": {
      "needs_background": "light"
     },
     "output_type": "display_data"
    }
   ],
   "source": [
    "plt.imshow(np.log10(np.abs(Ssmooth[:,:,0].T)), origin='lower')"
   ]
  },
  {
   "cell_type": "code",
   "execution_count": 134,
   "metadata": {},
   "outputs": [
    {
     "data": {
      "text/plain": [
       "[<matplotlib.lines.Line2D at 0x7fa451c3ea58>]"
      ]
     },
     "execution_count": 134,
     "metadata": {},
     "output_type": "execute_result"
    },
    {
     "data": {
      "image/png": "[encoded data removed]",
      "text/plain": [
       "<Figure size 432x288 with 1 Axes>"
      ]
     },
     "metadata": {
      "needs_background": "light"
     },
     "output_type": "display_data"
    }
   ],
   "source": [
    "plt.plot(Ssmooth[:,0,0], '-o')\n",
    "plt.plot(Tsmooth[:,1,1], '-o')\n",
    "#plt.set_yscale('log')"
   ]
  },
  {
   "cell_type": "code",
   "execution_count": 135,
   "metadata": {},
   "outputs": [],
   "source": [
    "# Make grid to compute the fields "
   ]
  },
  {
   "cell_type": "code",
   "execution_count": 136,
   "metadata": {},
   "outputs": [],
   "source": [
    "pot_scf = gp.SCFPotential(m=1E10, r_s=r_s,\n",
    "                      Snlm=Ssmooth, Tnlm=Tsmooth, units=[u.kpc, u.Gyr, u.Msun, u.radian])"
   ]
  },
  {
   "cell_type": "code",
   "execution_count": 137,
   "metadata": {},
   "outputs": [],
   "source": [
    "# plot BFE fields"
   ]
  },
  {
   "cell_type": "code",
   "execution_count": 138,
   "metadata": {},
   "outputs": [
    {
     "data": {
      "text/plain": [
       "Text(0, 0.5, '$z$')"
      ]
     },
     "execution_count": 138,
     "metadata": {},
     "output_type": "execute_result"
    },
    {
     "data": {
      "image/png": "[encoded data removed]",
      "text/plain": [
       "<Figure size 720x720 with 4 Axes>"
      ]
     },
     "metadata": {
      "needs_background": "light"
     },
     "output_type": "display_data"
    }
   ],
   "source": [
    "grid = np.linspace(-120, 120, 128)\n",
    "fig, axes = plt.subplots(2, 2, figsize=(10, 10),\n",
    "                         sharex=True, sharey=True)\n",
    "_ = pot_scf.plot_contours((grid, grid, 0), ax=axes[0][0])\n",
    "\n",
    "axes[0][0].set_xlabel('$x$')\n",
    "axes[0][0].set_ylabel('$y$')\n",
    "\n",
    "_ = pot_scf.plot_contours((grid, 0, grid), ax=axes[0][1])\n",
    "axes[0][1].set_xlabel('$x$')\n",
    "axes[0][1].set_ylabel('$z$')\n",
    "\n",
    "\n",
    "_ = pot_scf.plot_density_contours((grid, grid, 0), ax=axes[1][0])\n",
    "\n",
    "axes[1][0].set_xlabel('$x$')\n",
    "axes[1][0].set_ylabel('$y$')\n",
    "\n",
    "_ = pot_scf.plot_density_contours((grid, 0, grid), ax=axes[1][1])\n",
    "axes[1][1].set_xlabel('$x$')\n",
    "axes[1][1].set_ylabel('$z$')"
   ]
  },
  {
   "cell_type": "code",
   "execution_count": 127,
   "metadata": {},
   "outputs": [],
   "source": [
    "# Integrate orbit"
   ]
  },
  {
   "cell_type": "code",
   "execution_count": 128,
   "metadata": {},
   "outputs": [],
   "source": [
    "w0 = gd.PhaseSpacePosition(pos=[-50, 0, 0]*u.kpc,\n",
    "                           vel=[0, -50, 0.0]*u.km/u.s)"
   ]
  },
  {
   "cell_type": "code",
   "execution_count": 129,
   "metadata": {},
   "outputs": [
    {
     "data": {
      "image/png": "[encoded data removed]",
      "text/plain": [
       "<Figure size 864x288 with 3 Axes>"
      ]
     },
     "metadata": {
      "needs_background": "light"
     },
     "output_type": "display_data"
    }
   ],
   "source": [
    "orbit_flat = pot_scf.integrate_orbit(w0, dt=2.*u.Gyr, n_steps=5000)\n",
    "_ = orbit_flat.plot()"
   ]
  },
  {
   "cell_type": "code",
   "execution_count": null,
   "metadata": {},
   "outputs": [],
   "source": []
  }
 ],
 "metadata": {
  "kernelspec": {
   "display_name": "bfe_nbody",
   "language": "python",
   "name": "bfe_nbody"
  },
  "language_info": {
   "codemirror_mode": {
    "name": "ipython",
    "version": 3
   },
   "file_extension": ".py",
   "mimetype": "text/x-python",
   "name": "python",
   "nbconvert_exporter": "python",
   "pygments_lexer": "ipython3",
   "version": "3.7.3"
  }
 },
 "nbformat": 4,
 "nbformat_minor": 4
}
