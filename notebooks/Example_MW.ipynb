{
 "cells": [
  {
   "cell_type": "code",
   "execution_count": 1,
   "metadata": {
    "collapsed": false
   },
   "outputs": [
    {
     "name": "stderr",
     "output_type": "stream",
     "text": [
      "/usr/local/lib/python3.4/dist-packages/matplotlib/__init__.py:841: UserWarning: Found matplotlib configuration in ~/.matplotlib/. To conform with the XDG base directory standard, this configuration location has been deprecated on Linux, and the new location is now /home/ngaravito/.config/matplotlib/. Please move your configuration there to ensure that matplotlib will continue to find it in the future.\n",
      "  _get_xdg_config_dir())\n"
     ]
    },
    {
     "name": "stdout",
     "output_type": "stream",
     "text": [
      "Populating the interactive namespace from numpy and matplotlib\n"
     ]
    }
   ],
   "source": [
    "%pylab inline\n",
    "from pygadgetreader import readsnap, readheader\n",
    "import sys\n",
    "import octopus\n",
    "sys.path.insert(0, '../src/')"
   ]
  },
  {
   "cell_type": "code",
   "execution_count": 7,
   "metadata": {
    "collapsed": true
   },
   "outputs": [],
   "source": [
    "path = '/media/ngaravito/4fb4fd3d-1665-4892-a18d-bdbb1185a07b/simulations/MW2_40M/b0/'\n",
    "def N_body_orbit(snap_n, p_id):\n",
    "    pos = readsnap(path +'MW2_40M_vir_{:03d}'.format(snap_n), 'pos', 'dm')\n",
    "    mass = readsnap(path +'MW2_40M_vir_{:03d}'.format(snap_n), 'mass', 'dm')\n",
    "    pid = readsnap(path +'MW2_40M_vir_{:03d}'.format(snap_n), 'pid', 'dm')\n",
    "    time = readheader(path +'MW2_40M_vir_{:03d}'.format(snap_n), 'time')\n",
    "    index_id = np.where(pid == p_id)[0]\n",
    "    return pos[index_id], time\n",
    "\n",
    "def particle_orbit(t, pid):\n",
    "    N_snaps = 200\n",
    "    particle_pos = np.zeros((N_snaps,3))\n",
    "    time=0\n",
    "    t_orb = np.zeros(N_snaps)\n",
    "    i=0\n",
    "    while time<t:\n",
    "        particle_pos[i], t_orb[i] = N_body_orbit(i, pid)\n",
    "        time = t_orb[i]\n",
    "        i+=1\n",
    "    #_pos = LMCMW_pos[index]\n",
    "    #_vel = LMCMW_vel[index]\n",
    "    return particle_pos[:i+1], t_orb[:i+1]\n",
    "\n",
    "def particle_pos_vel(x, y, z, vx, vy, vz):\n",
    "    \"\"\"\n",
    "    Finds the particle id of a a particle with the closest \n",
    "    given phase space coordinates.\n",
    "    \n",
    "    \"\"\"\n",
    "    pos = readsnap(path +'MW2_40M_vir_000', 'pos', 'dm')\n",
    "    vel = readsnap(path +'MW2_40M_vir_000', 'vel', 'dm')\n",
    "    pid = readsnap(path +'MW2_40M_vir_000', 'pid', 'dm')\n",
    "    #R = np.sqrt(LMCMW_pos[:,0]**2.0 + LMCMW_pos[:,1]**2.0 + LMCMW_pos[:,2]**2.0)\n",
    "    #V = np.sqrt(LMCMW_vel[:,0]**2.0 + LMCMW_vel[:,1]**2.0 + LMCMW_vel[:,2]**2.0)\n",
    "    x_dif = pos[:,0] - x\n",
    "    y_dif = pos[:,1] - y\n",
    "    z_dif = pos[:,2] - z\n",
    "    \n",
    "\n",
    "    space = np.sqrt(x_dif**2 + y_dif**2 + z_dif**2)\n",
    "    index_pos = np.where(space<2)\n",
    "    \n",
    "    pid_space = pid[index_pos]\n",
    "    pos_space = pos[index_pos]\n",
    "    vel_space = vel[index_pos]\n",
    "    \n",
    "    vx_dif = vel_space[:,0] - vx\n",
    "    vy_dif = vel_space[:,1] - vy\n",
    "    vz_dif = vel_space[:,2] - vz\n",
    "    \n",
    "    velocity = np.sqrt(vx_dif**2 + vy_dif**2 + vz_dif**2)\n",
    "    index_vel = np.argmin(velocity)\n",
    "\n",
    "    \n",
    "    return pid_space[index_vel], pos_space[index_vel, 0], pos_space[index_vel, 1], \\\n",
    "           pos_space[index_vel, 2], vel_space[index_vel, 0], vel_space[index_vel, 1], \\\n",
    "           vel_space[index_vel, 2]\n"
   ]
  },
  {
   "cell_type": "code",
   "execution_count": 23,
   "metadata": {
    "collapsed": false
   },
   "outputs": [
    {
     "name": "stdout",
     "output_type": "stream",
     "text": [
      "Returning DM    Positions\n",
      "Returning DM    Velocities\n",
      "Returning DM    Particle IDs\n"
     ]
    }
   ],
   "source": [
    "p_ids, x_init, y_init, z_init, vx_init, vy_init, vz_init = particle_pos_vel(50, 0, 0, 0, 200, 0)"
   ]
  },
  {
   "cell_type": "code",
   "execution_count": 24,
   "metadata": {
    "collapsed": false
   },
   "outputs": [
    {
     "name": "stdout",
     "output_type": "stream",
     "text": [
      "3929634 48.8244 0.355133 -1.44737 36.4567 232.025 11.1545\n"
     ]
    }
   ],
   "source": [
    "print(p_ids, x_init, y_init, z_init, vx_init, vy_init, vz_init)"
   ]
  },
  {
   "cell_type": "code",
   "execution_count": 25,
   "metadata": {
    "collapsed": false
   },
   "outputs": [
    {
     "name": "stdout",
     "output_type": "stream",
     "text": [
      "Returning DM    Positions\n",
      "Returning DM    Mass\n",
      "Returning DM    Particle IDs\n",
      "Returning DM    Positions\n",
      "Returning DM    Mass\n",
      "Returning DM    Particle IDs\n",
      "Returning DM    Positions\n",
      "Returning DM    Mass\n",
      "Returning DM    Particle IDs\n",
      "Returning DM    Positions\n",
      "Returning DM    Mass\n",
      "Returning DM    Particle IDs\n",
      "Returning DM    Positions\n",
      "Returning DM    Mass\n",
      "Returning DM    Particle IDs\n",
      "Returning DM    Positions\n",
      "Returning DM    Mass\n",
      "Returning DM    Particle IDs\n",
      "Returning DM    Positions\n",
      "Returning DM    Mass\n",
      "Returning DM    Particle IDs\n"
     ]
    }
   ],
   "source": [
    "particle_nbody_orbit, t_orbit = particle_orbit(1, p_ids)"
   ]
  },
  {
   "cell_type": "code",
   "execution_count": 16,
   "metadata": {
    "collapsed": true
   },
   "outputs": [],
   "source": [
    "SCF_orbit = np.loadtxt('../src/orbit_MW2_40M.txt')"
   ]
  },
  {
   "cell_type": "code",
   "execution_count": 10,
   "metadata": {
    "collapsed": false
   },
   "outputs": [
    {
     "name": "stdout",
     "output_type": "stream",
     "text": [
      "Returning DM    Positions\n",
      "Returning DM    Velocities\n",
      "Returning DM    Particle IDs\n",
      "Returning DISK  Positions\n",
      "Returning DISK  Velocities\n",
      "Returning DISK  Potential\n",
      "Returning DM    Positions\n",
      "Returning DM    Velocities\n",
      "Returning DM    Particle IDs\n",
      "Returning DISK  Positions\n",
      "Returning DISK  Velocities\n",
      "Returning DISK  Potential\n",
      "Returning DM    Positions\n",
      "Returning DM    Velocities\n",
      "Returning DM    Particle IDs\n",
      "Returning DISK  Positions\n",
      "Returning DISK  Velocities\n",
      "Returning DISK  Potential\n",
      "Returning DM    Positions\n",
      "Returning DM    Velocities\n",
      "Returning DM    Particle IDs\n",
      "Returning DISK  Positions\n",
      "Returning DISK  Velocities\n",
      "Returning DISK  Potential\n",
      "Returning DM    Positions\n",
      "Returning DM    Velocities\n",
      "Returning DM    Particle IDs\n",
      "Returning DISK  Positions\n",
      "Returning DISK  Velocities\n",
      "Returning DISK  Potential\n",
      "Returning DM    Positions\n",
      "Returning DM    Velocities\n",
      "Returning DM    Particle IDs\n",
      "Returning DISK  Positions\n",
      "Returning DISK  Velocities\n",
      "Returning DISK  Potential\n",
      "Returning DM    Positions\n",
      "Returning DM    Velocities\n",
      "Returning DM    Particle IDs\n",
      "Returning DISK  Positions\n",
      "Returning DISK  Velocities\n",
      "Returning DISK  Potential\n",
      "Returning DM    Positions\n",
      "Returning DM    Velocities\n",
      "Returning DM    Particle IDs\n",
      "Returning DISK  Positions\n",
      "Returning DISK  Velocities\n",
      "Returning DISK  Potential\n",
      "Returning DM    Positions\n",
      "Returning DM    Velocities\n",
      "Returning DM    Particle IDs\n",
      "Returning DISK  Positions\n",
      "Returning DISK  Velocities\n",
      "Returning DISK  Potential\n",
      "Returning DM    Positions\n",
      "Returning DM    Velocities\n",
      "Returning DM    Particle IDs\n",
      "Returning DISK  Positions\n",
      "Returning DISK  Velocities\n",
      "Returning DISK  Potential\n",
      "Returning DM    Positions\n",
      "Returning DM    Velocities\n",
      "Returning DM    Particle IDs\n",
      "Returning DISK  Positions\n",
      "Returning DISK  Velocities\n",
      "Returning DISK  Potential\n",
      "Returning DM    Positions\n",
      "Returning DM    Velocities\n",
      "Returning DM    Particle IDs\n",
      "Returning DISK  Positions\n",
      "Returning DISK  Velocities\n",
      "Returning DISK  Potential\n"
     ]
    }
   ],
   "source": [
    "Nhalo = 37500000\n",
    "pos_cm_LMC, vel_cm_LMC, a, b = octopus.orbit(path, 'MW2_40M_vir', 0, 11, Nhalo, 0.1, lmc=False, disk=True)"
   ]
  },
  {
   "cell_type": "code",
   "execution_count": 26,
   "metadata": {
    "collapsed": false
   },
   "outputs": [
    {
     "data": {
      "text/plain": [
       "[<matplotlib.lines.Line2D at 0x7f2276a16358>]"
      ]
     },
     "execution_count": 26,
     "metadata": {},
     "output_type": "execute_result"
    },
    {
     "data": {
      "image/png": "[encoded data removed]",
      "text/plain": [
       "<matplotlib.figure.Figure at 0x7f22768058d0>"
      ]
     },
     "metadata": {},
     "output_type": "display_data"
    }
   ],
   "source": [
    "figure(figsize=(10,10))\n",
    "plot(particle_nbody_orbit[:,0]-pos_cm_LMC[:len(particle_nbody_orbit),0], \n",
    "     particle_nbody_orbit[:,1]-pos_cm_LMC[:len(particle_nbody_orbit),1], label='N-body', marker='o')\n",
    "#plot(SCF_orbit[:,1], SCF_orbit[:,2])"
   ]
  },
  {
   "cell_type": "code",
   "execution_count": null,
   "metadata": {
    "collapsed": true
   },
   "outputs": [],
   "source": []
  }
 ],
 "metadata": {
  "kernelspec": {
   "display_name": "Python 3",
   "language": "python",
   "name": "python3"
  },
  "language_info": {
   "codemirror_mode": {
    "name": "ipython",
    "version": 3
   },
   "file_extension": ".py",
   "mimetype": "text/x-python",
   "name": "python",
   "nbconvert_exporter": "python",
   "pygments_lexer": "ipython3",
   "version": "3.4.3"
  }
 },
 "nbformat": 4,
 "nbformat_minor": 0
}
