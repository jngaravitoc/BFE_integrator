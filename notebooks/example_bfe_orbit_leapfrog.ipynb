{
 "cells": [
  {
   "cell_type": "code",
   "execution_count": 48,
   "metadata": {},
   "outputs": [
    {
     "name": "stdout",
     "output_type": "stream",
     "text": [
      "Populating the interactive namespace from numpy and matplotlib\n"
     ]
    },
    {
     "name": "stderr",
     "output_type": "stream",
     "text": [
      "/home/ngc/Work/research/BFE_integrator/bfe-orbits/lib/python3.8/site-packages/IPython/core/magics/pylab.py:159: UserWarning: pylab import has clobbered these variables: ['time']\n",
      "`%matplotlib` prevents importing * from pylab and numpy\n",
      "  warn(\"pylab import has clobbered these variables: %s\"  % clobbered +\n"
     ]
    }
   ],
   "source": [
    "%pylab inline\n",
    "from astropy import units as u\n",
    "from astropy import constants\n",
    "import sys\n",
    "sys.path.append(\"../src/\")\n",
    "\n",
    "# Coefficients \n",
    "import read_coefficients as rbfe\n",
    "\n",
    "# integrator\n",
    "from leapfrog_bfe import integrate_bfe\n",
    "\n",
    "# Coeff and fields viz\n",
    "sys.path.append(\"../src/utils\")\n",
    "import fields_viz\n",
    "\n",
    "\n",
    "#Gala \n",
    "\n",
    "import gala.potential as gp\n",
    "import gala.dynamics as gd\n",
    "import gala.integrate as gi"
   ]
  },
  {
   "cell_type": "code",
   "execution_count": 2,
   "metadata": {},
   "outputs": [],
   "source": [
    "#1 Read coefficients\n",
    "\n",
    "path = \"../data/coefficients/MW_halo/BFE_MW2_test_1M_snap_host_snap_000.txt\"\n",
    "S, Svar, T, Tvar, STcov = np.loadtxt(path, unpack=True)\n"
   ]
  },
  {
   "cell_type": "code",
   "execution_count": 3,
   "metadata": {},
   "outputs": [
    {
     "name": "stdout",
     "output_type": "stream",
     "text": [
      "#  nmax: 20 \r\n",
      "#  lmax: 20 \r\n",
      "#  r_s: 34.51 \r\n",
      "#  particle_mass:  1.860e-03 \r\n",
      "#  rcom: [-0.05942867  0.27544157  0.09918613] \r\n",
      "#  vcom: [1.44447289 3.49402871 1.05113301]\r\n",
      "1.825461599745449917e+02 5.176498575029760962e-01 0.000000000000000000e+00 0.000000000000000000e+00 0.000000000000000000e+00\r\n",
      "-1.647139018521598108e-01 3.339141828870554329e-01 0.000000000000000000e+00 0.000000000000000000e+00 0.000000000000000000e+00\r\n",
      "6.189116310841151769e-01 6.751814974815678605e-01 2.217410639859059174e+00 6.719158568680313470e-01 -1.972367011578814774e-03\r\n",
      "-1.495872208733557862e+00 1.057525991248066788e+00 0.000000000000000000e+00 0.000000000000000000e+00 0.000000000000000000e+00\r\n"
     ]
    }
   ],
   "source": [
    "!head \"../data/coefficients/MW_halo/BFE_MW2_test_1M_snap_host_snap_000.txt\""
   ]
  },
  {
   "cell_type": "code",
   "execution_count": 4,
   "metadata": {},
   "outputs": [],
   "source": [
    "pmass = 1.86e-3\n",
    "nmax = 20\n",
    "lmax = 20\n",
    "rs = 34.51\n",
    "M=1 \n",
    "G = constants.G.to(u.kpc**3 / u.Msun / u.Gyr**2)\n"
   ]
  },
  {
   "cell_type": "code",
   "execution_count": 5,
   "metadata": {},
   "outputs": [
    {
     "data": {
      "text/latex": [
       "$4.4985022 \\times 10^{-6} \\; \\mathrm{\\frac{kpc^{3}}{M_{\\odot}\\,Gyr^{2}}}$"
      ],
      "text/plain": [
       "<Quantity 4.49850215e-06 kpc3 / (Gyr2 solMass)>"
      ]
     },
     "execution_count": 5,
     "metadata": {},
     "output_type": "execute_result"
    }
   ],
   "source": [
    "G"
   ]
  },
  {
   "cell_type": "code",
   "execution_count": 6,
   "metadata": {},
   "outputs": [
    {
     "name": "stderr",
     "output_type": "stream",
     "text": [
      "/home/ngc/Work/research/BFE_integrator/notebooks/../src/coefficients_smoothing.py:142: RuntimeWarning: invalid value encountered in double_scalars\n",
      "  bt = 1 / (1 + (varT/T**2))\n"
     ]
    }
   ],
   "source": [
    "# Could read time-dependent-coefficients\n",
    "Ssmooth, Tsmooth = rbfe.read_coefficients_smooth(path, pmass, M, nmax, lmax, sn=4)"
   ]
  },
  {
   "cell_type": "code",
   "execution_count": 7,
   "metadata": {},
   "outputs": [],
   "source": [
    "# Viz fields \n",
    "\n",
    "\n",
    "twod_density = fields_viz.eval_2d_fields([Ssmooth[0], Tsmooth[0]], [M, rs, nmax, lmax, G], \n",
    "                                        [-100, 100, -100, 100, 50, 50, 0], \"density\")"
   ]
  },
  {
   "cell_type": "code",
   "execution_count": 9,
   "metadata": {},
   "outputs": [],
   "source": [
    "twod_potential = fields_viz.eval_2d_fields([Ssmooth[0], Tsmooth[0]], [M, rs, nmax, lmax, G], \n",
    "                                        [-100, 100, -100, 100, 50, 50, 0], \"potential\")"
   ]
  },
  {
   "cell_type": "code",
   "execution_count": 10,
   "metadata": {},
   "outputs": [],
   "source": [
    "twod_acceleration = fields_viz.eval_2d_fields([Ssmooth[0], Tsmooth[0]], [M, rs, nmax, lmax, G], \n",
    "                                        [-100, 100, -100, 100, 50, 50, 0], \"acceleration\")"
   ]
  },
  {
   "cell_type": "code",
   "execution_count": 11,
   "metadata": {},
   "outputs": [
    {
     "data": {
      "text/plain": [
       "(<Figure size 864x288 with 3 Axes>,\n",
       " array([<AxesSubplot:title={'center':'Density'}>,\n",
       "        <AxesSubplot:title={'center':'Potential'}>,\n",
       "        <AxesSubplot:title={'center':'Acceleration'}>], dtype=object))"
      ]
     },
     "execution_count": 11,
     "metadata": {},
     "output_type": "execute_result"
    },
    {
     "data": {
      "image/png": "[encoded data removed]",
      "text/plain": [
       "<Figure size 864x288 with 3 Axes>"
      ]
     },
     "metadata": {
      "needs_background": "light"
     },
     "output_type": "display_data"
    }
   ],
   "source": [
    "fields_viz.viz_all_fields([np.log10(twod_density.value), \n",
    "                           twod_potential, twod_acceleration], grid_size=[-100, 100, -100, 100])"
   ]
  },
  {
   "cell_type": "code",
   "execution_count": 94,
   "metadata": {},
   "outputs": [],
   "source": [
    "#2 Set orbit parameters\n",
    "\n",
    "#G = constants.G.to(u.kpc  *u.km**2 / u.s**2 / u.Msun) #* 1E10 \n",
    "G = constants.G.to(u.kpc**3 / u.Gyr**2 / u.Msun) * 1E10 \n",
    "\n",
    "x=100 # kpc\n",
    "y=0\n",
    "z=0\n",
    "vx = 0*u.km/u.s\n",
    "vy = -230*u.km/u.s # km/s  ? \n",
    "vz = 0*u.km/u.s\n",
    "time = 2 # Gyr\n",
    "S_nlm = Ssmooth[0]\n",
    "T_nlm = Tsmooth[0]\n",
    "G_c = G # \n",
    "M = 1 # \n",
    "r_s = rs # kpc \n",
    "interp_dt = 0.002 # Gyr\n",
    "disk=0 \n",
    "\n"
   ]
  },
  {
   "cell_type": "code",
   "execution_count": 95,
   "metadata": {},
   "outputs": [
    {
     "data": {
      "text/latex": [
       "$44985.022 \\; \\mathrm{\\frac{kpc^{3}}{M_{\\odot}\\,Gyr^{2}}}$"
      ],
      "text/plain": [
       "<Quantity 44985.0215147 kpc3 / (Gyr2 solMass)>"
      ]
     },
     "execution_count": 95,
     "metadata": {},
     "output_type": "execute_result"
    }
   ],
   "source": [
    "G_c"
   ]
  },
  {
   "cell_type": "code",
   "execution_count": 96,
   "metadata": {},
   "outputs": [],
   "source": [
    "#3 Run orbit\n",
    "\n",
    "orbit_test = integrate_bfe(x, y, z, vx, vy, vz, time, S_nlm, T_nlm, nmax, lmax,\n",
    "                          G_c, M, r_s, interp_dt, disk, LMC=0)\n"
   ]
  },
  {
   "cell_type": "code",
   "execution_count": 97,
   "metadata": {},
   "outputs": [],
   "source": [
    "#4 Read results"
   ]
  },
  {
   "cell_type": "code",
   "execution_count": 98,
   "metadata": {},
   "outputs": [],
   "source": [
    "torb, xorb, yorb, zorb, vxorb, vyorb, vxorb = orbit_test"
   ]
  },
  {
   "cell_type": "code",
   "execution_count": 108,
   "metadata": {},
   "outputs": [],
   "source": [
    "r = (xorb**2 + yorb**2 + zorb**2)**0.5"
   ]
  },
  {
   "cell_type": "code",
   "execution_count": 109,
   "metadata": {},
   "outputs": [
    {
     "data": {
      "text/plain": [
       "[<matplotlib.lines.Line2D at 0x7f85cec0a250>]"
      ]
     },
     "execution_count": 109,
     "metadata": {},
     "output_type": "execute_result"
    },
    {
     "data": {
      "image/png": "[encoded data removed]",
      "text/plain": [
       "<Figure size 432x288 with 1 Axes>"
      ]
     },
     "metadata": {
      "needs_background": "light"
     },
     "output_type": "display_data"
    }
   ],
   "source": [
    "plot(torb, r)"
   ]
  },
  {
   "cell_type": "code",
   "execution_count": 110,
   "metadata": {},
   "outputs": [
    {
     "data": {
      "text/plain": [
       "100"
      ]
     },
     "execution_count": 110,
     "metadata": {},
     "output_type": "execute_result"
    }
   ],
   "source": [
    "# Comaparisson with Gala\n",
    "x"
   ]
  },
  {
   "cell_type": "code",
   "execution_count": 127,
   "metadata": {},
   "outputs": [
    {
     "data": {
      "text/plain": [
       "18.6"
      ]
     },
     "execution_count": 127,
     "metadata": {},
     "output_type": "execute_result"
    }
   ],
   "source": [
    "1.86E-3 * 1E6 * 1E10 / 1E12"
   ]
  },
  {
   "cell_type": "code",
   "execution_count": 155,
   "metadata": {},
   "outputs": [],
   "source": [
    "mw = gp.HernquistPotential(m=1.86E12, c=40.85, units=[u.kpc, u.Gyr, u.Msun, u.radian])\n",
    "w = gd.PhaseSpacePosition(pos=[x, y, z], vel=[vx.value, vy.value, vz.value])\n",
    "g_orbit = mw.integrate_orbit(w, dt=0.002*u.Gyr, n_steps=1000, Integrator=gi.LeapfrogIntegrator)"
   ]
  },
  {
   "cell_type": "code",
   "execution_count": 156,
   "metadata": {},
   "outputs": [],
   "source": [
    "g_r = g_orbit.xyz\n"
   ]
  },
  {
   "cell_type": "code",
   "execution_count": 157,
   "metadata": {},
   "outputs": [
    {
     "data": {
      "text/plain": [
       "[<matplotlib.lines.Line2D at 0x7f85ce2de2b0>]"
      ]
     },
     "execution_count": 157,
     "metadata": {},
     "output_type": "execute_result"
    },
    {
     "data": {
      "image/png": "[encoded data removed]",
      "text/plain": [
       "<Figure size 432x288 with 1 Axes>"
      ]
     },
     "metadata": {
      "needs_background": "light"
     },
     "output_type": "display_data"
    }
   ],
   "source": [
    "plot(torb, np.sqrt(np.sum(g_r**2, axis=0))[:-1])\n",
    "plot(torb, r)"
   ]
  },
  {
   "cell_type": "code",
   "execution_count": null,
   "metadata": {},
   "outputs": [],
   "source": []
  }
 ],
 "metadata": {
  "kernelspec": {
   "display_name": "bfe-orbits",
   "language": "python",
   "name": "bfe-orbits"
  },
  "language_info": {
   "codemirror_mode": {
    "name": "ipython",
    "version": 3
   },
   "file_extension": ".py",
   "mimetype": "text/x-python",
   "name": "python",
   "nbconvert_exporter": "python",
   "pygments_lexer": "ipython3",
   "version": "3.8.10"
  }
 },
 "nbformat": 4,
 "nbformat_minor": 4
}
