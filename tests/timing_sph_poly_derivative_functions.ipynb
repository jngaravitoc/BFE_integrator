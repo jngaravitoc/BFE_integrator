{
 "cells": [
  {
   "cell_type": "code",
   "execution_count": 14,
   "metadata": {},
   "outputs": [
    {
     "name": "stdout",
     "output_type": "stream",
     "text": [
      "Populating the interactive namespace from numpy and matplotlib\n"
     ]
    }
   ],
   "source": [
    "%pylab inline\n",
    "import time\n",
    "import timeit"
   ]
  },
  {
   "cell_type": "code",
   "execution_count": 2,
   "metadata": {},
   "outputs": [],
   "source": [
    "from test_sph_poly_derivative import derivative_one, derivative_two"
   ]
  },
  {
   "cell_type": "code",
   "execution_count": 24,
   "metadata": {},
   "outputs": [],
   "source": [
    "n_points = [1, 100, 1000, 10000, 100000]\n",
    "def get_params(n_points):\n",
    "    n = np.ones(n_points)*5\n",
    "    l = np.ones(n_points)*2\n",
    "    theta = np.pi/4.\n",
    "    return [n, l, theta]"
   ]
  },
  {
   "cell_type": "code",
   "execution_count": 25,
   "metadata": {},
   "outputs": [
    {
     "name": "stdout",
     "output_type": "stream",
     "text": [
      "12 µs ± 180 ns per loop (mean ± std. dev. of 7 runs, 100000 loops each)\n",
      "43.1 µs ± 595 ns per loop (mean ± std. dev. of 7 runs, 10000 loops each)\n",
      "410 µs ± 4.25 µs per loop (mean ± std. dev. of 7 runs, 1000 loops each)\n",
      "3.95 ms ± 25.6 µs per loop (mean ± std. dev. of 7 runs, 100 loops each)\n",
      "42.2 ms ± 414 µs per loop (mean ± std. dev. of 7 runs, 10 loops each)\n"
     ]
    }
   ],
   "source": [
    "for k in n_points:\n",
    "    params = get_params(k)\n",
    "    %timeit derivative_one(params[0], params[1], params[2])"
   ]
  },
  {
   "cell_type": "code",
   "execution_count": 27,
   "metadata": {},
   "outputs": [
    {
     "name": "stdout",
     "output_type": "stream",
     "text": [
      "21.8 µs ± 390 ns per loop (mean ± std. dev. of 7 runs, 10000 loops each)\n",
      "35.5 µs ± 541 ns per loop (mean ± std. dev. of 7 runs, 10000 loops each)\n",
      "159 µs ± 1.56 µs per loop (mean ± std. dev. of 7 runs, 10000 loops each)\n",
      "1.35 ms ± 23.7 µs per loop (mean ± std. dev. of 7 runs, 1000 loops each)\n",
      "15.8 ms ± 216 µs per loop (mean ± std. dev. of 7 runs, 100 loops each)\n"
     ]
    }
   ],
   "source": [
    "for k in n_points:\n",
    "    params = get_params(k)\n",
    "    %timeit derivative_two(params[0], params[1], params[2])"
   ]
  },
  {
   "cell_type": "code",
   "execution_count": null,
   "metadata": {},
   "outputs": [],
   "source": []
  }
 ],
 "metadata": {
  "kernelspec": {
   "display_name": "Python 3",
   "language": "python",
   "name": "python3"
  },
  "language_info": {
   "codemirror_mode": {
    "name": "ipython",
    "version": 3
   },
   "file_extension": ".py",
   "mimetype": "text/x-python",
   "name": "python",
   "nbconvert_exporter": "python",
   "pygments_lexer": "ipython3",
   "version": "3.8.10"
  }
 },
 "nbformat": 4,
 "nbformat_minor": 4
}
